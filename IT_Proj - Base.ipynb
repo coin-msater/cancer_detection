{
 "cells": [
  {
   "cell_type": "code",
   "execution_count": 1,
   "metadata": {},
   "outputs": [],
   "source": [
    "import numpy as np\n",
    "import pandas as pd \n",
    "import re\n",
    "from sklearn.ensemble import RandomForestClassifier\n",
    "from sklearn.metrics import classification_report\n",
    "from sklearn.model_selection import train_test_split, StratifiedKFold, GridSearchCV"
   ]
  },
  {
   "cell_type": "code",
   "execution_count": 2,
   "metadata": {},
   "outputs": [
    {
     "name": "stdout",
     "output_type": "stream",
     "text": [
      "Dimensions of DataFrame: (2193, 351)\n"
     ]
    },
    {
     "data": {
      "text/html": [
       "<div>\n",
       "<style scoped>\n",
       "    .dataframe tbody tr th:only-of-type {\n",
       "        vertical-align: middle;\n",
       "    }\n",
       "\n",
       "    .dataframe tbody tr th {\n",
       "        vertical-align: top;\n",
       "    }\n",
       "\n",
       "    .dataframe thead th {\n",
       "        text-align: right;\n",
       "    }\n",
       "</style>\n",
       "<table border=\"1\" class=\"dataframe\">\n",
       "  <thead>\n",
       "    <tr style=\"text-align: right;\">\n",
       "      <th></th>\n",
       "      <th>length_51</th>\n",
       "      <th>length_52</th>\n",
       "      <th>length_53</th>\n",
       "      <th>length_54</th>\n",
       "      <th>length_55</th>\n",
       "      <th>length_56</th>\n",
       "      <th>length_57</th>\n",
       "      <th>length_58</th>\n",
       "      <th>length_59</th>\n",
       "      <th>length_60</th>\n",
       "      <th>...</th>\n",
       "      <th>length_392</th>\n",
       "      <th>length_393</th>\n",
       "      <th>length_394</th>\n",
       "      <th>length_395</th>\n",
       "      <th>length_396</th>\n",
       "      <th>length_397</th>\n",
       "      <th>length_398</th>\n",
       "      <th>length_399</th>\n",
       "      <th>length_400</th>\n",
       "      <th>class_label</th>\n",
       "    </tr>\n",
       "  </thead>\n",
       "  <tbody>\n",
       "    <tr>\n",
       "      <th>0</th>\n",
       "      <td>0.000152</td>\n",
       "      <td>0.000082</td>\n",
       "      <td>0.000087</td>\n",
       "      <td>0.000092</td>\n",
       "      <td>0.000099</td>\n",
       "      <td>0.000125</td>\n",
       "      <td>0.000122</td>\n",
       "      <td>0.000115</td>\n",
       "      <td>0.000151</td>\n",
       "      <td>0.000167</td>\n",
       "      <td>...</td>\n",
       "      <td>0.007396</td>\n",
       "      <td>0.007193</td>\n",
       "      <td>0.006973</td>\n",
       "      <td>0.006481</td>\n",
       "      <td>0.006139</td>\n",
       "      <td>0.005958</td>\n",
       "      <td>0.005578</td>\n",
       "      <td>0.005327</td>\n",
       "      <td>0.005142</td>\n",
       "      <td>healthy</td>\n",
       "    </tr>\n",
       "    <tr>\n",
       "      <th>1</th>\n",
       "      <td>0.006256</td>\n",
       "      <td>0.006413</td>\n",
       "      <td>0.006512</td>\n",
       "      <td>0.006469</td>\n",
       "      <td>0.006810</td>\n",
       "      <td>0.007070</td>\n",
       "      <td>0.007748</td>\n",
       "      <td>0.008088</td>\n",
       "      <td>0.008671</td>\n",
       "      <td>0.008835</td>\n",
       "      <td>...</td>\n",
       "      <td>0.017830</td>\n",
       "      <td>0.017033</td>\n",
       "      <td>0.016373</td>\n",
       "      <td>0.015371</td>\n",
       "      <td>0.014340</td>\n",
       "      <td>0.013975</td>\n",
       "      <td>0.013243</td>\n",
       "      <td>0.012725</td>\n",
       "      <td>0.012267</td>\n",
       "      <td>healthy</td>\n",
       "    </tr>\n",
       "    <tr>\n",
       "      <th>2</th>\n",
       "      <td>0.003783</td>\n",
       "      <td>0.003886</td>\n",
       "      <td>0.004063</td>\n",
       "      <td>0.004237</td>\n",
       "      <td>0.004481</td>\n",
       "      <td>0.004832</td>\n",
       "      <td>0.004960</td>\n",
       "      <td>0.005605</td>\n",
       "      <td>0.005919</td>\n",
       "      <td>0.006480</td>\n",
       "      <td>...</td>\n",
       "      <td>0.010957</td>\n",
       "      <td>0.010481</td>\n",
       "      <td>0.009782</td>\n",
       "      <td>0.009211</td>\n",
       "      <td>0.008800</td>\n",
       "      <td>0.008320</td>\n",
       "      <td>0.007869</td>\n",
       "      <td>0.007286</td>\n",
       "      <td>0.007020</td>\n",
       "      <td>healthy</td>\n",
       "    </tr>\n",
       "    <tr>\n",
       "      <th>3</th>\n",
       "      <td>0.004635</td>\n",
       "      <td>0.004471</td>\n",
       "      <td>0.004383</td>\n",
       "      <td>0.004829</td>\n",
       "      <td>0.004920</td>\n",
       "      <td>0.005056</td>\n",
       "      <td>0.005475</td>\n",
       "      <td>0.006158</td>\n",
       "      <td>0.007174</td>\n",
       "      <td>0.007697</td>\n",
       "      <td>...</td>\n",
       "      <td>0.010032</td>\n",
       "      <td>0.008933</td>\n",
       "      <td>0.008970</td>\n",
       "      <td>0.008546</td>\n",
       "      <td>0.008125</td>\n",
       "      <td>0.007587</td>\n",
       "      <td>0.007501</td>\n",
       "      <td>0.006931</td>\n",
       "      <td>0.006663</td>\n",
       "      <td>healthy</td>\n",
       "    </tr>\n",
       "    <tr>\n",
       "      <th>4</th>\n",
       "      <td>0.011315</td>\n",
       "      <td>0.010045</td>\n",
       "      <td>0.009795</td>\n",
       "      <td>0.009906</td>\n",
       "      <td>0.010630</td>\n",
       "      <td>0.011467</td>\n",
       "      <td>0.013024</td>\n",
       "      <td>0.014853</td>\n",
       "      <td>0.016874</td>\n",
       "      <td>0.017501</td>\n",
       "      <td>...</td>\n",
       "      <td>0.009118</td>\n",
       "      <td>0.008535</td>\n",
       "      <td>0.008233</td>\n",
       "      <td>0.007754</td>\n",
       "      <td>0.007584</td>\n",
       "      <td>0.006933</td>\n",
       "      <td>0.006530</td>\n",
       "      <td>0.006378</td>\n",
       "      <td>0.005842</td>\n",
       "      <td>healthy</td>\n",
       "    </tr>\n",
       "  </tbody>\n",
       "</table>\n",
       "<p>5 rows × 351 columns</p>\n",
       "</div>"
      ],
      "text/plain": [
       "   length_51  length_52  length_53  length_54  length_55  length_56  \\\n",
       "0   0.000152   0.000082   0.000087   0.000092   0.000099   0.000125   \n",
       "1   0.006256   0.006413   0.006512   0.006469   0.006810   0.007070   \n",
       "2   0.003783   0.003886   0.004063   0.004237   0.004481   0.004832   \n",
       "3   0.004635   0.004471   0.004383   0.004829   0.004920   0.005056   \n",
       "4   0.011315   0.010045   0.009795   0.009906   0.010630   0.011467   \n",
       "\n",
       "   length_57  length_58  length_59  length_60  ...  length_392  length_393  \\\n",
       "0   0.000122   0.000115   0.000151   0.000167  ...    0.007396    0.007193   \n",
       "1   0.007748   0.008088   0.008671   0.008835  ...    0.017830    0.017033   \n",
       "2   0.004960   0.005605   0.005919   0.006480  ...    0.010957    0.010481   \n",
       "3   0.005475   0.006158   0.007174   0.007697  ...    0.010032    0.008933   \n",
       "4   0.013024   0.014853   0.016874   0.017501  ...    0.009118    0.008535   \n",
       "\n",
       "   length_394  length_395  length_396  length_397  length_398  length_399  \\\n",
       "0    0.006973    0.006481    0.006139    0.005958    0.005578    0.005327   \n",
       "1    0.016373    0.015371    0.014340    0.013975    0.013243    0.012725   \n",
       "2    0.009782    0.009211    0.008800    0.008320    0.007869    0.007286   \n",
       "3    0.008970    0.008546    0.008125    0.007587    0.007501    0.006931   \n",
       "4    0.008233    0.007754    0.007584    0.006933    0.006530    0.006378   \n",
       "\n",
       "   length_400  class_label  \n",
       "0    0.005142      healthy  \n",
       "1    0.012267      healthy  \n",
       "2    0.007020      healthy  \n",
       "3    0.006663      healthy  \n",
       "4    0.005842      healthy  \n",
       "\n",
       "[5 rows x 351 columns]"
      ]
     },
     "execution_count": 2,
     "metadata": {},
     "output_type": "execute_result"
    }
   ],
   "source": [
    "df = pd.read_csv(r\".\\NUS_IT\\Train_Set.csv\")\n",
    "test_df = pd.read_csv(r\".\\NUS_IT\\Test_Set.csv\")\n",
    "print(\"Dimensions of DataFrame:\",df.shape)\n",
    "df.head()"
   ]
  },
  {
   "cell_type": "code",
   "execution_count": 3,
   "metadata": {},
   "outputs": [
    {
     "data": {
      "text/plain": [
       "Index([], dtype='object')"
      ]
     },
     "execution_count": 3,
     "metadata": {},
     "output_type": "execute_result"
    }
   ],
   "source": [
    "## Checking the number of columns with missing values \n",
    "df.columns[df.isna().sum()>0] # no columns with missing values "
   ]
  },
  {
   "cell_type": "code",
   "execution_count": 4,
   "metadata": {},
   "outputs": [
    {
     "data": {
      "text/plain": [
       "float64    350\n",
       "object       1\n",
       "dtype: int64"
      ]
     },
     "execution_count": 4,
     "metadata": {},
     "output_type": "execute_result"
    }
   ],
   "source": [
    "df.dtypes.value_counts() # 350 columns with float dtypes (decimal type); 1 which is non-numeric (target)"
   ]
  },
  {
   "cell_type": "code",
   "execution_count": 5,
   "metadata": {},
   "outputs": [
    {
     "data": {
      "text/plain": [
       "early stage cancer        781\n",
       "screening stage cancer    490\n",
       "mid stage cancer          453\n",
       "late stage cancer         409\n",
       "healthy                    60\n",
       "Name: class_label, dtype: int64"
      ]
     },
     "execution_count": 5,
     "metadata": {},
     "output_type": "execute_result"
    }
   ],
   "source": [
    "df['class_label'].value_counts() # imbalanced dataset; to use class weights"
   ]
  },
  {
   "cell_type": "code",
   "execution_count": 6,
   "metadata": {},
   "outputs": [
    {
     "data": {
      "text/plain": [
       "2    781\n",
       "1    490\n",
       "3    453\n",
       "4    409\n",
       "0     60\n",
       "Name: class_label, dtype: int64"
      ]
     },
     "execution_count": 6,
     "metadata": {},
     "output_type": "execute_result"
    }
   ],
   "source": [
    "dic={\"healthy\":0,\"screening stage cancer\":1,\"early stage cancer\":2,\"mid stage cancer\":3,\"late stage cancer\":4} \n",
    "# each stage is mapped distinctly\n",
    "df['class_label'].map(dic).value_counts() # mapped appropriately"
   ]
  },
  {
   "cell_type": "code",
   "execution_count": 7,
   "metadata": {},
   "outputs": [],
   "source": [
    "df['class_label'] = df['class_label'].map(dic)           \n",
    "# changes the class_label column to numeric (ML model requires numeric data)\n",
    "test_df['class_label'] = test_df['class_label'].map(dic) \n",
    "# likewise for the class_label column in the calidation dataset (test_df)"
   ]
  },
  {
   "cell_type": "code",
   "execution_count": 8,
   "metadata": {},
   "outputs": [],
   "source": [
    "#### --> train test split first (from only the train data csv ; test data csv will be used for testing (unseen data))\n",
    "r_state = 27 # for controlling of state \n",
    "target = \"class_label\" \n",
    "# for benefit of ez reference >> as opposed to always typing \"class_label\"\n",
    "X_features=[i for i in df.columns if i!=target] \n",
    "# all independent features\n",
    "\n",
    "val_p = 0.35\n",
    "\n",
    "X_train,X_test,y_train,y_test= train_test_split(df[X_features],df[target],test_size=val_p,stratify=df[target],random_state = r_state)\n",
    "df = pd.concat([X_train,y_train],axis=1) \n",
    "# train dataset\n",
    "dfv = pd.concat([X_test,y_test],axis=1) \n",
    "# validation dataset"
   ]
  },
  {
   "cell_type": "code",
   "execution_count": 9,
   "metadata": {},
   "outputs": [],
   "source": [
    "model = RandomForestClassifier(random_state=r_state,class_weight='balanced')\n",
    "model.fit(df[X_features], df[target])\n",
    "sig_features = model.feature_importances_\n",
    "feature_scores = sorted([(i,e) for i,e in enumerate(sig_features)],key=lambda x:x[-1],reverse=True)\n",
    "forest_features = df.columns[list(map(lambda x:x[0],feature_scores))]"
   ]
  },
  {
   "cell_type": "code",
   "execution_count": 10,
   "metadata": {},
   "outputs": [],
   "source": [
    "# Also will take a while as model is being trained\n",
    "def model_trainer(df,dfv,best_cols):\n",
    "\n",
    "    rf_clf  = RandomForestClassifier(random_state=r_state,class_weight='balanced')\n",
    "    rf_clf.fit(df[best_cols],df[target]) \n",
    "    # random forest model used since it was also the best performing model on multiple classes\n",
    "    # in the IT_Proj - Final notebook\n",
    "\n",
    "    rf_pred  = rf_clf.predict(dfv[best_cols])\n",
    "\n",
    "    reverse_lis = [k for k,v in sorted(dic.items(),key=lambda x:x[-1])]\n",
    "\n",
    "    print(\"Random Forest Report:\")\n",
    "    rf_r = classification_report(dfv[target],rf_pred,target_names = reverse_lis)\n",
    "    print(rf_r)\n",
    "    return [rf_r]"
   ]
  },
  {
   "cell_type": "code",
   "execution_count": 26,
   "metadata": {},
   "outputs": [],
   "source": [
    "scores_by_cols = sorted(list(zip(forest_features,map(lambda x:x[-1],feature_scores))),key=lambda x:int(x[0].split('_')[-1]))\n",
    "colnames = list(map(lambda x:x[0].split('_')[-1],scores_by_cols))\n",
    "scores = list(map(lambda x:x[1],scores_by_cols))"
   ]
  },
  {
   "cell_type": "code",
   "execution_count": 12,
   "metadata": {},
   "outputs": [
    {
     "name": "stdout",
     "output_type": "stream",
     "text": [
      "Median Score: 0.0020006031801589165\n",
      "Mean Score  : 0.002857142857142857\n",
      "Scores at 25th percentile: 0.001502 and\n",
      "\t  75th percentile: 0.002928\n"
     ]
    }
   ],
   "source": [
    "scores = np.array(scores)\n",
    "print(f\"Median Score: {np.median(scores)}\")\n",
    "print(f\"Mean Score  : {np.mean(scores)}\")\n",
    "iqr = np.quantile(scores,(0.25,0.75))\n",
    "print(f\"Scores at 25th percentile: {iqr[0]:.6f} and\\n\\t  75th percentile: {iqr[-1]:.6f}\")"
   ]
  },
  {
   "cell_type": "code",
   "execution_count": 13,
   "metadata": {},
   "outputs": [
    {
     "name": "stdout",
     "output_type": "stream",
     "text": [
      "Number of Features with scores\n",
      "above the 25th percentile : 262\n",
      "above the median          : 175\n",
      "above the mean            : 89\n",
      "above the 75th percentile : 88\n"
     ]
    }
   ],
   "source": [
    "above_75th = len(scores[scores>=iqr[1]])\n",
    "above_mean = len(scores[scores>=np.mean(scores)])\n",
    "above_median = len(scores[scores>=np.median(scores)])\n",
    "above_25th = len(scores[scores>=iqr[0]])\n",
    "above_p = [('25th percentile',above_25th),('median',above_median),('mean',above_mean),('75th percentile',above_75th)]\n",
    "print(\"Number of Features with scores\\n\" +'\\n'.join([f'above the {i[0]:<16}: '+str(i[-1]) for i in above_p]))\n",
    "# aim to look at number of top n-ranked features where n is \n",
    "# a number from 90 - 275 >> basis of comparison against all features (350)"
   ]
  },
  {
   "cell_type": "code",
   "execution_count": 14,
   "metadata": {},
   "outputs": [
    {
     "name": "stdout",
     "output_type": "stream",
     "text": [
      "Top 90 features\n"
     ]
    },
    {
     "name": "stdout",
     "output_type": "stream",
     "text": [
      "Random Forest Report:\n",
      "                        precision    recall  f1-score   support\n",
      "\n",
      "               healthy       0.00      0.00      0.00        21\n",
      "screening stage cancer       0.76      0.91      0.83       172\n",
      "    early stage cancer       0.84      0.83      0.84       273\n",
      "      mid stage cancer       0.79      0.79      0.79       159\n",
      "     late stage cancer       0.95      0.87      0.91       143\n",
      "\n",
      "              accuracy                           0.82       768\n",
      "             macro avg       0.67      0.68      0.67       768\n",
      "          weighted avg       0.81      0.82      0.81       768\n",
      "\n",
      "Top 100 features\n",
      "Random Forest Report:\n",
      "                        precision    recall  f1-score   support\n",
      "\n",
      "               healthy       0.00      0.00      0.00        21\n",
      "screening stage cancer       0.77      0.88      0.82       172\n",
      "    early stage cancer       0.84      0.84      0.84       273\n",
      "      mid stage cancer       0.78      0.79      0.78       159\n",
      "     late stage cancer       0.95      0.87      0.91       143\n",
      "\n",
      "              accuracy                           0.82       768\n",
      "             macro avg       0.67      0.68      0.67       768\n",
      "          weighted avg       0.81      0.82      0.81       768\n",
      "\n",
      "Top 125 features\n",
      "Random Forest Report:\n",
      "                        precision    recall  f1-score   support\n",
      "\n",
      "               healthy       0.00      0.00      0.00        21\n",
      "screening stage cancer       0.77      0.91      0.83       172\n",
      "    early stage cancer       0.85      0.84      0.84       273\n",
      "      mid stage cancer       0.79      0.79      0.79       159\n",
      "     late stage cancer       0.95      0.87      0.91       143\n",
      "\n",
      "              accuracy                           0.83       768\n",
      "             macro avg       0.67      0.68      0.67       768\n",
      "          weighted avg       0.81      0.83      0.82       768\n",
      "\n",
      "Top 150 features\n",
      "Random Forest Report:\n",
      "                        precision    recall  f1-score   support\n",
      "\n",
      "               healthy       0.00      0.00      0.00        21\n",
      "screening stage cancer       0.77      0.91      0.83       172\n",
      "    early stage cancer       0.85      0.85      0.85       273\n",
      "      mid stage cancer       0.81      0.79      0.80       159\n",
      "     late stage cancer       0.95      0.87      0.91       143\n",
      "\n",
      "              accuracy                           0.83       768\n",
      "             macro avg       0.67      0.68      0.68       768\n",
      "          weighted avg       0.82      0.83      0.82       768\n",
      "\n",
      "Top 175 features\n",
      "Random Forest Report:\n",
      "                        precision    recall  f1-score   support\n",
      "\n",
      "               healthy       0.00      0.00      0.00        21\n",
      "screening stage cancer       0.77      0.91      0.84       172\n",
      "    early stage cancer       0.86      0.86      0.86       273\n",
      "      mid stage cancer       0.82      0.81      0.81       159\n",
      "     late stage cancer       0.95      0.87      0.91       143\n",
      "\n",
      "              accuracy                           0.84       768\n",
      "             macro avg       0.68      0.69      0.68       768\n",
      "          weighted avg       0.82      0.84      0.83       768\n",
      "\n",
      "Top 225 features\n",
      "Random Forest Report:\n",
      "                        precision    recall  f1-score   support\n",
      "\n",
      "               healthy       0.00      0.00      0.00        21\n",
      "screening stage cancer       0.76      0.91      0.83       172\n",
      "    early stage cancer       0.85      0.85      0.85       273\n",
      "      mid stage cancer       0.81      0.79      0.80       159\n",
      "     late stage cancer       0.95      0.87      0.91       143\n",
      "\n",
      "              accuracy                           0.83       768\n",
      "             macro avg       0.68      0.69      0.68       768\n",
      "          weighted avg       0.82      0.83      0.82       768\n",
      "\n",
      "Top 275 features\n",
      "Random Forest Report:\n",
      "                        precision    recall  f1-score   support\n",
      "\n",
      "               healthy       0.17      0.05      0.07        21\n",
      "screening stage cancer       0.77      0.91      0.83       172\n",
      "    early stage cancer       0.86      0.86      0.86       273\n",
      "      mid stage cancer       0.82      0.81      0.81       159\n",
      "     late stage cancer       0.95      0.87      0.91       143\n",
      "\n",
      "              accuracy                           0.84       768\n",
      "             macro avg       0.71      0.70      0.70       768\n",
      "          weighted avg       0.83      0.84      0.83       768\n",
      "\n",
      "Top 350 features\n",
      "Random Forest Report:\n",
      "                        precision    recall  f1-score   support\n",
      "\n",
      "               healthy       0.25      0.05      0.08        21\n",
      "screening stage cancer       0.77      0.91      0.83       172\n",
      "    early stage cancer       0.87      0.85      0.86       273\n",
      "      mid stage cancer       0.82      0.82      0.82       159\n",
      "     late stage cancer       0.95      0.87      0.91       143\n",
      "\n",
      "              accuracy                           0.84       768\n",
      "             macro avg       0.73      0.70      0.70       768\n",
      "          weighted avg       0.83      0.84      0.83       768\n",
      "\n"
     ]
    }
   ],
   "source": [
    "d={}\n",
    "no_of_features = [90,100,125,150,175,225,275,350]\n",
    "for i in no_of_features: \n",
    "    print(f\"Top {i} features\")\n",
    "    best_cols = forest_features[:i]\n",
    "    l = model_trainer(df,dfv,best_cols) \n",
    "    a = list(map(lambda x:x.strip().split('\\n'),l))\n",
    "    k = ['Random Forest']\n",
    "    for n,e in enumerate(a):\n",
    "        key = f\"{i} - {(k[n])}\"\n",
    "        z=[float(i[-1]) for i in list(map(lambda x:re.findall(\"\\d\\.\\d\\d\",x),e)) if len(i)>0]\n",
    "        d[key] = z"
   ]
  },
  {
   "cell_type": "code",
   "execution_count": 15,
   "metadata": {},
   "outputs": [],
   "source": [
    "best_cols = forest_features # highest score for each metric across all classes when all columns are used"
   ]
  },
  {
   "cell_type": "code",
   "execution_count": 16,
   "metadata": {},
   "outputs": [],
   "source": [
    "reverse_lis = [k for k,_ in sorted(dic.items(),key=lambda x:x[-1])]"
   ]
  },
  {
   "cell_type": "code",
   "execution_count": 17,
   "metadata": {},
   "outputs": [],
   "source": [
    "refined_params = {'bootstrap': [True,False],\n",
    " 'max_depth': [20, 50, 100, None],\n",
    " 'max_leaf_nodes':[2,5,None],\n",
    " 'min_samples_split': [2,3,5],\n",
    " 'criterion':['gini','entropy'],\n",
    " 'n_estimators': [50, 100, 200]}\n",
    "rf_grid = GridSearchCV(estimator = RandomForestClassifier(random_state=r_state,class_weight='balanced'), param_grid= refined_params, \n",
    "                        cv = StratifiedKFold(n_splits=5,random_state=r_state,shuffle=True),n_jobs=-1)\n",
    "# Grid Search CV is used to evaluate ALL narrowed down parameters to give optimised result"
   ]
  },
  {
   "cell_type": "code",
   "execution_count": 18,
   "metadata": {},
   "outputs": [
    {
     "name": "stdout",
     "output_type": "stream",
     "text": [
      "                        precision    recall  f1-score   support\n",
      "\n",
      "               healthy       0.25      0.05      0.08        21\n",
      "screening stage cancer       0.77      0.91      0.83       172\n",
      "    early stage cancer       0.87      0.85      0.86       273\n",
      "      mid stage cancer       0.82      0.82      0.82       159\n",
      "     late stage cancer       0.95      0.87      0.91       143\n",
      "\n",
      "              accuracy                           0.84       768\n",
      "             macro avg       0.73      0.70      0.70       768\n",
      "          weighted avg       0.83      0.84      0.83       768\n",
      "\n"
     ]
    }
   ],
   "source": [
    "rf_b = RandomForestClassifier(random_state=r_state,class_weight='balanced')\n",
    "rf_b.fit(df[best_cols],df[target]) \n",
    "y_pred_base = rf_b.predict(dfv[best_cols])\n",
    "print(classification_report(dfv[target],y_pred_base,target_names = reverse_lis)) \n",
    "# model performance for early, mid and late stage cancer (f1-score) comparable to primary model in final code,\n",
    "# but results for screening and healthy stage > nt as great\n",
    "# precision and recall for healthy stage pitiful compared to final model"
   ]
  },
  {
   "cell_type": "code",
   "execution_count": 19,
   "metadata": {},
   "outputs": [
    {
     "name": "stdout",
     "output_type": "stream",
     "text": [
      "{'bootstrap': False, 'criterion': 'entropy', 'max_depth': 20, 'max_leaf_nodes': None, 'min_samples_split': 3, 'n_estimators': 200}\n"
     ]
    }
   ],
   "source": [
    "# takes about 30 min - 1 hour to run this code cell >> code is placed in multi-line string \n",
    "\"\"\"\n",
    "rf_grid.fit(df[best_cols],df[target]) \n",
    "print(rf_grid.best_params_)\n",
    "\"\"\"\n",
    "# may remove the string quotes to run the code; do take note on the time required\n",
    "\n",
    "### Observed Output ###\n",
    "# {'bootstrap': False, 'criterion': 'entropy', 'max_depth': 20, 'max_leaf_nodes': None, 'min_samples_split': 3, 'n_estimators': 200}"
   ]
  },
  {
   "cell_type": "code",
   "execution_count": 20,
   "metadata": {},
   "outputs": [
    {
     "name": "stdout",
     "output_type": "stream",
     "text": [
      "                        precision    recall  f1-score   support\n",
      "\n",
      "               healthy       0.12      0.05      0.07        21\n",
      "screening stage cancer       0.78      0.90      0.84       172\n",
      "    early stage cancer       0.88      0.88      0.88       273\n",
      "      mid stage cancer       0.82      0.83      0.83       159\n",
      "     late stage cancer       0.95      0.87      0.91       143\n",
      "\n",
      "              accuracy                           0.85       768\n",
      "             macro avg       0.71      0.70      0.70       768\n",
      "          weighted avg       0.84      0.85      0.84       768\n",
      "\n"
     ]
    }
   ],
   "source": [
    "rf_h = RandomForestClassifier(random_state=r_state,max_depth = 20,max_leaf_nodes = None,min_samples_split = 3,\n",
    "    n_estimators = 200,class_weight='balanced',criterion='entropy',bootstrap=False)\n",
    "rf_h.fit(df[best_cols],df[target]) \n",
    "y_pred_hyper = rf_h.predict(dfv[best_cols])\n",
    "print(classification_report(dfv[target],y_pred_hyper,target_names = reverse_lis)) \n",
    "# hyperparameter model performs worse wrt precision for validation set\n",
    "# esp w regards to precision data"
   ]
  }
 ],
 "metadata": {
  "kernelspec": {
   "display_name": "Python 3",
   "language": "python",
   "name": "python3"
  },
  "language_info": {
   "codemirror_mode": {
    "name": "ipython",
    "version": 3
   },
   "file_extension": ".py",
   "mimetype": "text/x-python",
   "name": "python",
   "nbconvert_exporter": "python",
   "pygments_lexer": "ipython3",
   "version": "3.11.4"
  }
 },
 "nbformat": 4,
 "nbformat_minor": 2
}

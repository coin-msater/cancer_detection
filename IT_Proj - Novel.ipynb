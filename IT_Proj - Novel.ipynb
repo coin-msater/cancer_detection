{
 "cells": [
  {
   "cell_type": "code",
   "execution_count": 239,
   "metadata": {},
   "outputs": [],
   "source": [
    "import pickle\n",
    "import pandas as pd\n",
    "from sklearn.metrics import classification_report"
   ]
  },
  {
   "cell_type": "code",
   "execution_count": 240,
   "metadata": {},
   "outputs": [],
   "source": [
    "with open(r\".\\CancerStagersPrimaryModel.pkl\",'rb') as f:\n",
    "    pri_model = pickle.load(f) # load the saved primary model\n",
    "with open(r\".\\CancerStagersSecondaryModel.pkl\",'rb') as f:\n",
    "    sec_model = pickle.load(f) # load the saved secondary model"
   ]
  },
  {
   "cell_type": "code",
   "execution_count": 246,
   "metadata": {},
   "outputs": [
    {
     "data": {
      "text/html": [
       "<style>#sk-container-id-1 {color: black;background-color: white;}#sk-container-id-1 pre{padding: 0;}#sk-container-id-1 div.sk-toggleable {background-color: white;}#sk-container-id-1 label.sk-toggleable__label {cursor: pointer;display: block;width: 100%;margin-bottom: 0;padding: 0.3em;box-sizing: border-box;text-align: center;}#sk-container-id-1 label.sk-toggleable__label-arrow:before {content: \"▸\";float: left;margin-right: 0.25em;color: #696969;}#sk-container-id-1 label.sk-toggleable__label-arrow:hover:before {color: black;}#sk-container-id-1 div.sk-estimator:hover label.sk-toggleable__label-arrow:before {color: black;}#sk-container-id-1 div.sk-toggleable__content {max-height: 0;max-width: 0;overflow: hidden;text-align: left;background-color: #f0f8ff;}#sk-container-id-1 div.sk-toggleable__content pre {margin: 0.2em;color: black;border-radius: 0.25em;background-color: #f0f8ff;}#sk-container-id-1 input.sk-toggleable__control:checked~div.sk-toggleable__content {max-height: 200px;max-width: 100%;overflow: auto;}#sk-container-id-1 input.sk-toggleable__control:checked~label.sk-toggleable__label-arrow:before {content: \"▾\";}#sk-container-id-1 div.sk-estimator input.sk-toggleable__control:checked~label.sk-toggleable__label {background-color: #d4ebff;}#sk-container-id-1 div.sk-label input.sk-toggleable__control:checked~label.sk-toggleable__label {background-color: #d4ebff;}#sk-container-id-1 input.sk-hidden--visually {border: 0;clip: rect(1px 1px 1px 1px);clip: rect(1px, 1px, 1px, 1px);height: 1px;margin: -1px;overflow: hidden;padding: 0;position: absolute;width: 1px;}#sk-container-id-1 div.sk-estimator {font-family: monospace;background-color: #f0f8ff;border: 1px dotted black;border-radius: 0.25em;box-sizing: border-box;margin-bottom: 0.5em;}#sk-container-id-1 div.sk-estimator:hover {background-color: #d4ebff;}#sk-container-id-1 div.sk-parallel-item::after {content: \"\";width: 100%;border-bottom: 1px solid gray;flex-grow: 1;}#sk-container-id-1 div.sk-label:hover label.sk-toggleable__label {background-color: #d4ebff;}#sk-container-id-1 div.sk-serial::before {content: \"\";position: absolute;border-left: 1px solid gray;box-sizing: border-box;top: 0;bottom: 0;left: 50%;z-index: 0;}#sk-container-id-1 div.sk-serial {display: flex;flex-direction: column;align-items: center;background-color: white;padding-right: 0.2em;padding-left: 0.2em;position: relative;}#sk-container-id-1 div.sk-item {position: relative;z-index: 1;}#sk-container-id-1 div.sk-parallel {display: flex;align-items: stretch;justify-content: center;background-color: white;position: relative;}#sk-container-id-1 div.sk-item::before, #sk-container-id-1 div.sk-parallel-item::before {content: \"\";position: absolute;border-left: 1px solid gray;box-sizing: border-box;top: 0;bottom: 0;left: 50%;z-index: -1;}#sk-container-id-1 div.sk-parallel-item {display: flex;flex-direction: column;z-index: 1;position: relative;background-color: white;}#sk-container-id-1 div.sk-parallel-item:first-child::after {align-self: flex-end;width: 50%;}#sk-container-id-1 div.sk-parallel-item:last-child::after {align-self: flex-start;width: 50%;}#sk-container-id-1 div.sk-parallel-item:only-child::after {width: 0;}#sk-container-id-1 div.sk-dashed-wrapped {border: 1px dashed gray;margin: 0 0.4em 0.5em 0.4em;box-sizing: border-box;padding-bottom: 0.4em;background-color: white;}#sk-container-id-1 div.sk-label label {font-family: monospace;font-weight: bold;display: inline-block;line-height: 1.2em;}#sk-container-id-1 div.sk-label-container {text-align: center;}#sk-container-id-1 div.sk-container {/* jupyter's `normalize.less` sets `[hidden] { display: none; }` but bootstrap.min.css set `[hidden] { display: none !important; }` so we also need the `!important` here to be able to override the default hidden behavior on the sphinx rendered scikit-learn.org. See: https://github.com/scikit-learn/scikit-learn/issues/21755 */display: inline-block !important;position: relative;}#sk-container-id-1 div.sk-text-repr-fallback {display: none;}</style><div id=\"sk-container-id-1\" class=\"sk-top-container\"><div class=\"sk-text-repr-fallback\"><pre>RandomForestClassifier(bootstrap=False, class_weight=&#x27;balanced&#x27;,\n",
       "                       criterion=&#x27;entropy&#x27;, max_depth=50, min_samples_split=5,\n",
       "                       n_estimators=300, random_state=27)</pre><b>In a Jupyter environment, please rerun this cell to show the HTML representation or trust the notebook. <br />On GitHub, the HTML representation is unable to render, please try loading this page with nbviewer.org.</b></div><div class=\"sk-container\" hidden><div class=\"sk-item\"><div class=\"sk-estimator sk-toggleable\"><input class=\"sk-toggleable__control sk-hidden--visually\" id=\"sk-estimator-id-1\" type=\"checkbox\" checked><label for=\"sk-estimator-id-1\" class=\"sk-toggleable__label sk-toggleable__label-arrow\">RandomForestClassifier</label><div class=\"sk-toggleable__content\"><pre>RandomForestClassifier(bootstrap=False, class_weight=&#x27;balanced&#x27;,\n",
       "                       criterion=&#x27;entropy&#x27;, max_depth=50, min_samples_split=5,\n",
       "                       n_estimators=300, random_state=27)</pre></div></div></div></div></div>"
      ],
      "text/plain": [
       "RandomForestClassifier(bootstrap=False, class_weight='balanced',\n",
       "                       criterion='entropy', max_depth=50, min_samples_split=5,\n",
       "                       n_estimators=300, random_state=27)"
      ]
     },
     "execution_count": 246,
     "metadata": {},
     "output_type": "execute_result"
    }
   ],
   "source": [
    "pri_model # view of the primary model (with hyperparameters)"
   ]
  },
  {
   "cell_type": "code",
   "execution_count": 247,
   "metadata": {},
   "outputs": [
    {
     "data": {
      "text/html": [
       "<style>#sk-container-id-2 {color: black;background-color: white;}#sk-container-id-2 pre{padding: 0;}#sk-container-id-2 div.sk-toggleable {background-color: white;}#sk-container-id-2 label.sk-toggleable__label {cursor: pointer;display: block;width: 100%;margin-bottom: 0;padding: 0.3em;box-sizing: border-box;text-align: center;}#sk-container-id-2 label.sk-toggleable__label-arrow:before {content: \"▸\";float: left;margin-right: 0.25em;color: #696969;}#sk-container-id-2 label.sk-toggleable__label-arrow:hover:before {color: black;}#sk-container-id-2 div.sk-estimator:hover label.sk-toggleable__label-arrow:before {color: black;}#sk-container-id-2 div.sk-toggleable__content {max-height: 0;max-width: 0;overflow: hidden;text-align: left;background-color: #f0f8ff;}#sk-container-id-2 div.sk-toggleable__content pre {margin: 0.2em;color: black;border-radius: 0.25em;background-color: #f0f8ff;}#sk-container-id-2 input.sk-toggleable__control:checked~div.sk-toggleable__content {max-height: 200px;max-width: 100%;overflow: auto;}#sk-container-id-2 input.sk-toggleable__control:checked~label.sk-toggleable__label-arrow:before {content: \"▾\";}#sk-container-id-2 div.sk-estimator input.sk-toggleable__control:checked~label.sk-toggleable__label {background-color: #d4ebff;}#sk-container-id-2 div.sk-label input.sk-toggleable__control:checked~label.sk-toggleable__label {background-color: #d4ebff;}#sk-container-id-2 input.sk-hidden--visually {border: 0;clip: rect(1px 1px 1px 1px);clip: rect(1px, 1px, 1px, 1px);height: 1px;margin: -1px;overflow: hidden;padding: 0;position: absolute;width: 1px;}#sk-container-id-2 div.sk-estimator {font-family: monospace;background-color: #f0f8ff;border: 1px dotted black;border-radius: 0.25em;box-sizing: border-box;margin-bottom: 0.5em;}#sk-container-id-2 div.sk-estimator:hover {background-color: #d4ebff;}#sk-container-id-2 div.sk-parallel-item::after {content: \"\";width: 100%;border-bottom: 1px solid gray;flex-grow: 1;}#sk-container-id-2 div.sk-label:hover label.sk-toggleable__label {background-color: #d4ebff;}#sk-container-id-2 div.sk-serial::before {content: \"\";position: absolute;border-left: 1px solid gray;box-sizing: border-box;top: 0;bottom: 0;left: 50%;z-index: 0;}#sk-container-id-2 div.sk-serial {display: flex;flex-direction: column;align-items: center;background-color: white;padding-right: 0.2em;padding-left: 0.2em;position: relative;}#sk-container-id-2 div.sk-item {position: relative;z-index: 1;}#sk-container-id-2 div.sk-parallel {display: flex;align-items: stretch;justify-content: center;background-color: white;position: relative;}#sk-container-id-2 div.sk-item::before, #sk-container-id-2 div.sk-parallel-item::before {content: \"\";position: absolute;border-left: 1px solid gray;box-sizing: border-box;top: 0;bottom: 0;left: 50%;z-index: -1;}#sk-container-id-2 div.sk-parallel-item {display: flex;flex-direction: column;z-index: 1;position: relative;background-color: white;}#sk-container-id-2 div.sk-parallel-item:first-child::after {align-self: flex-end;width: 50%;}#sk-container-id-2 div.sk-parallel-item:last-child::after {align-self: flex-start;width: 50%;}#sk-container-id-2 div.sk-parallel-item:only-child::after {width: 0;}#sk-container-id-2 div.sk-dashed-wrapped {border: 1px dashed gray;margin: 0 0.4em 0.5em 0.4em;box-sizing: border-box;padding-bottom: 0.4em;background-color: white;}#sk-container-id-2 div.sk-label label {font-family: monospace;font-weight: bold;display: inline-block;line-height: 1.2em;}#sk-container-id-2 div.sk-label-container {text-align: center;}#sk-container-id-2 div.sk-container {/* jupyter's `normalize.less` sets `[hidden] { display: none; }` but bootstrap.min.css set `[hidden] { display: none !important; }` so we also need the `!important` here to be able to override the default hidden behavior on the sphinx rendered scikit-learn.org. See: https://github.com/scikit-learn/scikit-learn/issues/21755 */display: inline-block !important;position: relative;}#sk-container-id-2 div.sk-text-repr-fallback {display: none;}</style><div id=\"sk-container-id-2\" class=\"sk-top-container\"><div class=\"sk-text-repr-fallback\"><pre>GradientBoostingClassifier(criterion=&#x27;squared_error&#x27;, max_depth=5,\n",
       "                           random_state=27, subsample=0.75)</pre><b>In a Jupyter environment, please rerun this cell to show the HTML representation or trust the notebook. <br />On GitHub, the HTML representation is unable to render, please try loading this page with nbviewer.org.</b></div><div class=\"sk-container\" hidden><div class=\"sk-item\"><div class=\"sk-estimator sk-toggleable\"><input class=\"sk-toggleable__control sk-hidden--visually\" id=\"sk-estimator-id-2\" type=\"checkbox\" checked><label for=\"sk-estimator-id-2\" class=\"sk-toggleable__label sk-toggleable__label-arrow\">GradientBoostingClassifier</label><div class=\"sk-toggleable__content\"><pre>GradientBoostingClassifier(criterion=&#x27;squared_error&#x27;, max_depth=5,\n",
       "                           random_state=27, subsample=0.75)</pre></div></div></div></div></div>"
      ],
      "text/plain": [
       "GradientBoostingClassifier(criterion='squared_error', max_depth=5,\n",
       "                           random_state=27, subsample=0.75)"
      ]
     },
     "execution_count": 247,
     "metadata": {},
     "output_type": "execute_result"
    }
   ],
   "source": [
    "sec_model # view of the secondary model (with hyperparameters)"
   ]
  },
  {
   "cell_type": "code",
   "execution_count": 241,
   "metadata": {},
   "outputs": [],
   "source": [
    "def df_test(dataframe: pd.DataFrame): # takes in a pandas dataframe \n",
    "    if all(x in dataframe.columns for x in pri_model.feature_names_in_)==False:\n",
    "        raise Exception(f\"\"\"Missing Mandatory Columns Detected. \n",
    "Please ensure your dataframe has the required columns:\\n\\n{list(pri_model.feature_names_in_)}\"\"\")\n",
    "    # checks that the mandatory columns are present in the dataframe \n",
    "    # (both primary and secondary models use the same features)\n",
    "    elif (any(dataframe[pri_model.feature_names_in_].isna().sum()>0)): \n",
    "        # checks if any of the mandatory columns (as found in model.feature_names_in_) has a missing value\n",
    "        missing_cols = (list((dataframe[pri_model.feature_names_in_].isna().sum()>0).index))\n",
    "        raise Exception(f\"Missing Data Detected in Columns {missing_cols}\")\n",
    "    else:\n",
    "        # if above checks are fulfilled, continue with code\n",
    "        dataframe = dataframe.reset_index().drop(columns='index') \n",
    "        # reindex the dataframe for ease of reference for row indices\n",
    "        y_pred_pri = list(pri_model.predict(dataframe[pri_model.feature_names_in_]))\n",
    "        # primary model predicts into 4 classes > healthy/screening, early, mid, late\n",
    "        y_1 = [i for i,e in enumerate(y_pred_pri) if e==1] # 1st class (healthy/screening) selected\n",
    "        dataframe2 = dataframe.loc[dataframe.index.isin(y_1)].copy() \n",
    "        # indexes are used to lookup those rows in the dataset\n",
    "        y_pred_sec = list(sec_model.predict(dataframe2[sec_model.feature_names_in_])) # secondary model used \n",
    "        # to reclassify those data points more specifically into healthy/ screening stage\n",
    "        y_pred = []\n",
    "        for e in y_pred_pri:\n",
    "            if e!=1:\n",
    "                y_pred.append(e)\n",
    "            else:\n",
    "                y_pred.append(y_pred_sec.pop(0)) # final results are added to y_pred list in order\n",
    "        dic = {\"healthy\":0,\"screening stage cancer\":1,\"early stage cancer\":2,\"mid stage cancer\":3,\"late stage cancer\":4}\n",
    "        reverse_lis = [k for k,_ in sorted(dic.items(),key=lambda x:x[-1])]\n",
    "        r_dic = {k:v for k,v in enumerate(reverse_lis)}\n",
    "        target = 'class_label'\n",
    "        df=None\n",
    "        if target in dataframe.columns:\n",
    "        # if there is an actual class_label column present, can compare actual data with predicted data\n",
    "            df = pd.DataFrame({\"Actual\":dataframe[target].values,\n",
    "                    \"Predicted\":y_pred})\n",
    "            for e in df.columns[1:]:\n",
    "                df[e]=df[e].map(r_dic) \n",
    "                # numeric labels (0,1,2,3,4) converted to meaningful information\n",
    "                # (healthy, screening stage , early stage, mid stage, late stage)\n",
    "            df['Match']=df['Actual']==df['Predicted']\n",
    "            print(f\"Percentage of matches between prediction and actual case: {df['Match'].sum()/df['Match'].__len__()*100}\")\n",
    "            # expresses the number of matches as a percentage of total number of results (rough gauge of overall accuracy)\n",
    "            print(df)\n",
    "            # displays the information\n",
    "        y_pred = pd.Series(list(map(lambda x:r_dic[x],y_pred)))\n",
    "        y_pred.name = 'Predicted'\n",
    "        return [y_pred,df]"
   ]
  },
  {
   "cell_type": "code",
   "execution_count": 242,
   "metadata": {},
   "outputs": [],
   "source": [
    "test_path = r\".\\NUS_IT\\Test_Set.csv\" # default test path; can change to other csv files of a similar format\n",
    "df = pd.read_csv(test_path)\n",
    "df_sample = df.sample(100)"
   ]
  },
  {
   "cell_type": "code",
   "execution_count": 243,
   "metadata": {},
   "outputs": [
    {
     "name": "stdout",
     "output_type": "stream",
     "text": [
      "Percentage of matches between prediction and actual case: 71.0\n",
      "                    Actual               Predicted  Match\n",
      "0         mid stage cancer       late stage cancer  False\n",
      "1        late stage cancer       late stage cancer   True\n",
      "2       early stage cancer      early stage cancer   True\n",
      "3         mid stage cancer        mid stage cancer   True\n",
      "4       early stage cancer      early stage cancer   True\n",
      "..                     ...                     ...    ...\n",
      "95  screening stage cancer  screening stage cancer   True\n",
      "96      early stage cancer       late stage cancer  False\n",
      "97                 healthy  screening stage cancer  False\n",
      "98        mid stage cancer       late stage cancer  False\n",
      "99       late stage cancer        mid stage cancer  False\n",
      "\n",
      "[100 rows x 3 columns]\n"
     ]
    }
   ],
   "source": [
    "pd.set_option('expand_frame_repr', False)\n",
    "\n",
    "res=df_test(df_sample)\n",
    "if res[-1] is not None:\n",
    "    pred,pf = res \n",
    "else:\n",
    "    pred = res[0]"
   ]
  },
  {
   "cell_type": "code",
   "execution_count": 244,
   "metadata": {},
   "outputs": [
    {
     "name": "stdout",
     "output_type": "stream",
     "text": [
      "0          late stage cancer\n",
      "1          late stage cancer\n",
      "2         early stage cancer\n",
      "3           mid stage cancer\n",
      "4         early stage cancer\n",
      "               ...          \n",
      "95    screening stage cancer\n",
      "96         late stage cancer\n",
      "97    screening stage cancer\n",
      "98         late stage cancer\n",
      "99          mid stage cancer\n",
      "Name: Predicted, Length: 100, dtype: object\n"
     ]
    }
   ],
   "source": [
    "print(pred)"
   ]
  },
  {
   "cell_type": "code",
   "execution_count": 245,
   "metadata": {},
   "outputs": [
    {
     "name": "stdout",
     "output_type": "stream",
     "text": [
      "                        precision    recall  f1-score   support\n",
      "\n",
      "    early stage cancer       0.70      0.79      0.74        33\n",
      "               healthy       1.00      0.25      0.40         4\n",
      "     late stage cancer       0.75      0.86      0.80        21\n",
      "      mid stage cancer       0.74      0.64      0.68        22\n",
      "screening stage cancer       0.63      0.60      0.62        20\n",
      "\n",
      "              accuracy                           0.71       100\n",
      "             macro avg       0.76      0.63      0.65       100\n",
      "          weighted avg       0.72      0.71      0.70       100\n",
      "\n"
     ]
    }
   ],
   "source": [
    "target = 'class_label'\n",
    "if target in df.columns:\n",
    "    print(classification_report(pf['Actual'],pred)) \n",
    "    # more tailored version of checking precision, recall and f1 of each category"
   ]
  }
 ],
 "metadata": {
  "kernelspec": {
   "display_name": "Python 3",
   "language": "python",
   "name": "python3"
  },
  "language_info": {
   "codemirror_mode": {
    "name": "ipython",
    "version": 3
   },
   "file_extension": ".py",
   "mimetype": "text/x-python",
   "name": "python",
   "nbconvert_exporter": "python",
   "pygments_lexer": "ipython3",
   "version": "3.11.4"
  }
 },
 "nbformat": 4,
 "nbformat_minor": 2
}
